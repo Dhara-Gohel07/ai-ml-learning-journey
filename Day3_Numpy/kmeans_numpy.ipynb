{
 "cells": [
  {
   "cell_type": "markdown",
   "id": "9cfe34e5",
   "metadata": {},
   "source": [
    "# K-Means Clustering from Scratch using NumPy\n",
    "# Author: Dhara Gohel\n",
    "# Day 3 - AI/ML Learning Journey"
   ]
  },
  {
   "cell_type": "code",
   "execution_count": 14,
   "id": "01d7077a",
   "metadata": {},
   "outputs": [],
   "source": [
    "import numpy as np\n",
    "import matplotlib.pyplot as plt"
   ]
  },
  {
   "cell_type": "markdown",
   "id": "6f7fdb2c",
   "metadata": {},
   "source": [
    "# STEP 1: Create Synthetic Dataset"
   ]
  },
  {
   "cell_type": "code",
   "execution_count": 15,
   "id": "3b002089",
   "metadata": {},
   "outputs": [],
   "source": [
    "np.random.seed(42)\n",
    "n_points = 100"
   ]
  },
  {
   "cell_type": "markdown",
   "id": "746912f8",
   "metadata": {},
   "source": [
    "# income between 20k–100k, spending between 20–100"
   ]
  },
  {
   "cell_type": "code",
   "execution_count": 16,
   "id": "ec34b116",
   "metadata": {},
   "outputs": [
    {
     "name": "stdout",
     "output_type": "stream",
     "text": [
      "=== sample data ===\n",
      "[[71 92]\n",
      " [34 91]\n",
      " [91 31]\n",
      " [80 53]\n",
      " [40 52]]\n"
     ]
    }
   ],
   "source": [
    "income = np.random.randint(20,100,n_points)\n",
    "spending = np.random.randint(20,100,n_points)\n",
    "data = np.array(list(zip(income,spending)))\n",
    "\n",
    "print(\"=== sample data ===\")\n",
    "print(data[:5])\n"
   ]
  },
  {
   "cell_type": "markdown",
   "id": "80eb188f",
   "metadata": {},
   "source": [
    "# STEP 2: Initialize K centroids randomly"
   ]
  },
  {
   "cell_type": "code",
   "execution_count": 17,
   "id": "fbc57533",
   "metadata": {},
   "outputs": [
    {
     "name": "stdout",
     "output_type": "stream",
     "text": [
      "=== initial centroids ===\n",
      "[[21 22]\n",
      " [41 63]\n",
      " [41 34]]\n"
     ]
    }
   ],
   "source": [
    "k = 3\n",
    "centroids = data[np.random.choice(range(n_points),k,replace=False)]\n",
    "print(\"=== initial centroids ===\")\n",
    "print(centroids)"
   ]
  },
  {
   "cell_type": "markdown",
   "id": "00d161c3",
   "metadata": {},
   "source": [
    "# STEP 3: Function to compute distances"
   ]
  },
  {
   "cell_type": "code",
   "execution_count": 18,
   "id": "1b6b49a1",
   "metadata": {},
   "outputs": [],
   "source": [
    "def eculidean_distance(a, b):\n",
    "    return np.sqrt(np.sum((a - b) ** 2))"
   ]
  },
  {
   "cell_type": "markdown",
   "id": "65fb4148",
   "metadata": {},
   "source": [
    "# STEP 4: K-Means Iteration"
   ]
  },
  {
   "cell_type": "code",
   "execution_count": 19,
   "id": "11759457",
   "metadata": {},
   "outputs": [
    {
     "name": "stdout",
     "output_type": "stream",
     "text": [
      "=== final centroids ===\n",
      "[[36.92857143 36.03571429]\n",
      " [52.43589744 82.61538462]\n",
      " [82.78787879 50.63636364]]\n"
     ]
    }
   ],
   "source": [
    "for epoch in range(10):\n",
    "    labels = []\n",
    "    for point in data:\n",
    "        distances = [eculidean_distance(point,c) for c in centroids]\n",
    "        labels.append(np.argmin(distances))\n",
    "    labels = np.array(labels)\n",
    "\n",
    "    new_centroids = np.array([data[labels==k].mean(axis=0) for k in range(k)])\n",
    "\n",
    "    if np.allclose(centroids, new_centroids):\n",
    "        break\n",
    "\n",
    "    centroids = new_centroids\n",
    "print(\"=== final centroids ===\")\n",
    "print(centroids)"
   ]
  },
  {
   "cell_type": "markdown",
   "id": "f223d5cd",
   "metadata": {},
   "source": [
    "# STEP 5: Show cluster counts"
   ]
  },
  {
   "cell_type": "code",
   "execution_count": 20,
   "id": "bf74711c",
   "metadata": {},
   "outputs": [
    {
     "name": "stdout",
     "output_type": "stream",
     "text": [
      "Cluster 1: 28 points\n",
      "Cluster 2: 39 points\n",
      "Cluster 3: 33 points\n"
     ]
    }
   ],
   "source": [
    "for k in range(k):\n",
    "    count = np.sum(labels==k)\n",
    "    print(f\"Cluster {k+1}: {count} points\")"
   ]
  },
  {
   "cell_type": "markdown",
   "id": "9f86daef",
   "metadata": {},
   "source": [
    "# STEP 6: Visualize Results\n"
   ]
  },
  {
   "cell_type": "code",
   "execution_count": 21,
   "id": "d57b7600",
   "metadata": {},
   "outputs": [
    {
     "data": {
      "image/png": "[encoded data removed]",
      "text/plain": [
       "<Figure size 800x600 with 1 Axes>"
      ]
     },
     "metadata": {},
     "output_type": "display_data"
    }
   ],
   "source": [
    "colors = ['r', 'g', 'b']\n",
    "plt.figure(figsize=(8,6))\n",
    "for k in range(k):\n",
    "    cluster_points = data[labels==k]\n",
    "    plt.scatter(cluster_points[:,0], cluster_points[:,1], c=colors[k], label=f'Cluster {k+1}')\n",
    "\n",
    "plt.scatter(centroids[:,0], centroids[:,1], c='black', marker='X', s=200, label='Centroids')\n",
    "plt.xlabel('Income')\n",
    "plt.ylabel('Spending Score')\n",
    "plt.legend()\n",
    "plt.show()"
   ]
  }
 ],
 "metadata": {
  "kernelspec": {
   "display_name": "Python 3",
   "language": "python",
   "name": "python3"
  },
  "language_info": {
   "codemirror_mode": {
    "name": "ipython",
    "version": 3
   },
   "file_extension": ".py",
   "mimetype": "text/x-python",
   "name": "python",
   "nbconvert_exporter": "python",
   "pygments_lexer": "ipython3",
   "version": "3.13.3"
  }
 },
 "nbformat": 4,
 "nbformat_minor": 5
}
